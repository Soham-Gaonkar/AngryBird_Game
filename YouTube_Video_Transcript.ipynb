{
  "nbformat": 4,
  "nbformat_minor": 0,
  "metadata": {
    "colab": {
      "provenance": [],
      "authorship_tag": "ABX9TyOYdXk3zm36KonSU1axVV4L",
      "include_colab_link": true
    },
    "kernelspec": {
      "name": "python3",
      "display_name": "Python 3"
    },
    "language_info": {
      "name": "python"
    }
  },
  "cells": [
    {
      "cell_type": "markdown",
      "metadata": {
        "id": "view-in-github",
        "colab_type": "text"
      },
      "source": [
        "<a href=\"https://colab.research.google.com/github/Soham-Gaonkar/AngryBird_Game/blob/main/YouTube_Video_Transcript.ipynb\" target=\"_parent\"><img src=\"https://colab.research.google.com/assets/colab-badge.svg\" alt=\"Open In Colab\"/></a>"
      ]
    },
    {
      "cell_type": "markdown",
      "source": [
        "#YouTube video to transcript using openAI whisper and summary using OLLama"
      ],
      "metadata": {
        "id": "W1LNofIec8uo"
      }
    },
    {
      "cell_type": "code",
      "execution_count": 1,
      "metadata": {
        "colab": {
          "base_uri": "https://localhost:8080/"
        },
        "id": "fQSO8CqhcxXl",
        "outputId": "1c8ac9d7-90b3-49b8-8988-5fe41344a649"
      },
      "outputs": [
        {
          "output_type": "stream",
          "name": "stdout",
          "text": [
            "Collecting pydub\n",
            "  Downloading pydub-0.25.1-py2.py3-none-any.whl.metadata (1.4 kB)\n",
            "Downloading pydub-0.25.1-py2.py3-none-any.whl (32 kB)\n",
            "Installing collected packages: pydub\n",
            "Successfully installed pydub-0.25.1\n",
            "Requirement already satisfied: pydub[extras] in /usr/local/lib/python3.10/dist-packages (0.25.1)\n",
            "\u001b[33mWARNING: pydub 0.25.1 does not provide the extra 'extras'\u001b[0m\u001b[33m\n",
            "\u001b[0m"
          ]
        }
      ],
      "source": [
        "try:\n",
        "    from pydub import AudioSegment\n",
        "except ImportError:\n",
        "    %pip install pydub\n",
        "    %pip install pydub[extras]\n",
        "    from pydub import AudioSegment\n",
        "    from pydub.playback import play"
      ]
    },
    {
      "cell_type": "code",
      "source": [],
      "metadata": {
        "id": "wWWx0dYidKAQ"
      },
      "execution_count": null,
      "outputs": []
    }
  ]
}